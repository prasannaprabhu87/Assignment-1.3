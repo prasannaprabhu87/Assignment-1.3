{
 "cells": [
  {
   "cell_type": "code",
   "execution_count": 7,
   "metadata": {},
   "outputs": [
    {
     "name": "stdout",
     "output_type": "stream",
     "text": [
      "Enter your first name \n",
      "annasarp\n",
      "Enter your last name \n",
      "uhbarp\n",
      "prasanna prabhu\n"
     ]
    }
   ],
   "source": [
    "Firstname=input(\"Enter your first name \\n\")\n",
    "Lastname=input(\"Enter your last name \\n\")\n",
    "firstnamereverse=Firstname[::-1]\n",
    "lastnamereverse=Lastname[::-1]\n",
    "print (firstnamereverse +' ' + lastnamereverse)"
   ]
  },
  {
   "cell_type": "code",
   "execution_count": null,
   "metadata": {
    "collapsed": true
   },
   "outputs": [],
   "source": []
  }
 ],
 "metadata": {
  "kernelspec": {
   "display_name": "Python 3",
   "language": "python",
   "name": "python3"
  },
  "language_info": {
   "codemirror_mode": {
    "name": "ipython",
    "version": 3
   },
   "file_extension": ".py",
   "mimetype": "text/x-python",
   "name": "python",
   "nbconvert_exporter": "python",
   "pygments_lexer": "ipython3",
   "version": "3.6.3"
  }
 },
 "nbformat": 4,
 "nbformat_minor": 2
}
